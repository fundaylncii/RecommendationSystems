{
  "nbformat": 4,
  "nbformat_minor": 0,
  "metadata": {
    "colab": {
      "provenance": [],
      "authorship_tag": "ABX9TyPfpp/e9lpFZsZM9dnG9tHE",
      "include_colab_link": true
    },
    "kernelspec": {
      "name": "python3",
      "display_name": "Python 3"
    },
    "language_info": {
      "name": "python"
    }
  },
  "cells": [
    {
      "cell_type": "markdown",
      "metadata": {
        "id": "view-in-github",
        "colab_type": "text"
      },
      "source": [
        "<a href=\"https://colab.research.google.com/github/fundaylncii/RecommendationSystems/blob/main/MovieRecommendationWithItemBased.ipynb\" target=\"_parent\"><img src=\"https://colab.research.google.com/assets/colab-badge.svg\" alt=\"Open In Colab\"/></a>"
      ]
    },
    {
      "cell_type": "code",
      "execution_count": null,
      "metadata": {
        "id": "qrWdeuoHpuem"
      },
      "outputs": [],
      "source": [
        "## İtem Based"
      ]
    },
    {
      "cell_type": "code",
      "source": [
        "## Item Based Collaborative Filtering\n",
        "## Item benzerlikleri üzerinden öneriler yapılır\n",
        "## beğenilme yapısı benzerliği aranır\n",
        "\n",
        "## DataSet Url: https://grouplens.org/datasets/movielens/\n",
        "\n",
        "## Veri Setinin Hazırlanması\n",
        "import pandas as pd\n",
        "pd.set_option(\"display.max_columns\", 20)\n",
        "\n",
        "movie = pd.read_csv(\"/content/movie.csv\")\n",
        "rating = pd.read_csv(\"/content/rating.csv\")\n",
        "\n",
        "df = movie.merge(rating, how=\"left\", on=\"movieId\")"
      ],
      "metadata": {
        "id": "9eY_wgBkqGoH"
      },
      "execution_count": 2,
      "outputs": []
    },
    {
      "cell_type": "code",
      "source": [
        "df.head(10)"
      ],
      "metadata": {
        "colab": {
          "base_uri": "https://localhost:8080/",
          "height": 363
        },
        "collapsed": true,
        "id": "v2psbWlJttvB",
        "outputId": "1535a4b4-0d4e-42c8-f96c-c6d902f32c08"
      },
      "execution_count": 6,
      "outputs": [
        {
          "output_type": "execute_result",
          "data": {
            "text/plain": [
              "   movieId             title                                       genres  \\\n",
              "0        1  Toy Story (1995)  Adventure|Animation|Children|Comedy|Fantasy   \n",
              "1        1  Toy Story (1995)  Adventure|Animation|Children|Comedy|Fantasy   \n",
              "2        1  Toy Story (1995)  Adventure|Animation|Children|Comedy|Fantasy   \n",
              "3        1  Toy Story (1995)  Adventure|Animation|Children|Comedy|Fantasy   \n",
              "4        1  Toy Story (1995)  Adventure|Animation|Children|Comedy|Fantasy   \n",
              "5        1  Toy Story (1995)  Adventure|Animation|Children|Comedy|Fantasy   \n",
              "6        1  Toy Story (1995)  Adventure|Animation|Children|Comedy|Fantasy   \n",
              "7        1  Toy Story (1995)  Adventure|Animation|Children|Comedy|Fantasy   \n",
              "8        1  Toy Story (1995)  Adventure|Animation|Children|Comedy|Fantasy   \n",
              "9        1  Toy Story (1995)  Adventure|Animation|Children|Comedy|Fantasy   \n",
              "\n",
              "   userId  rating            timestamp  \n",
              "0     3.0     4.0  1999-12-11 13:36:47  \n",
              "1     6.0     5.0  1997-03-13 17:50:52  \n",
              "2     8.0     4.0  1996-06-05 13:37:51  \n",
              "3    10.0     4.0  1999-11-25 02:44:47  \n",
              "4    11.0     4.5  2009-01-02 01:13:41  \n",
              "5    12.0     4.0  1997-03-22 20:48:38  \n",
              "6    13.0     4.0  1996-11-27 08:21:31  \n",
              "7    14.0     4.5  2008-10-29 20:13:59  \n",
              "8    16.0     3.0  2001-05-27 13:22:52  \n",
              "9    19.0     5.0  1997-02-05 21:03:48  "
            ],
            "text/html": [
              "\n",
              "  <div id=\"df-0e80bb73-1682-47d2-accb-7631cd8987e4\" class=\"colab-df-container\">\n",
              "    <div>\n",
              "<style scoped>\n",
              "    .dataframe tbody tr th:only-of-type {\n",
              "        vertical-align: middle;\n",
              "    }\n",
              "\n",
              "    .dataframe tbody tr th {\n",
              "        vertical-align: top;\n",
              "    }\n",
              "\n",
              "    .dataframe thead th {\n",
              "        text-align: right;\n",
              "    }\n",
              "</style>\n",
              "<table border=\"1\" class=\"dataframe\">\n",
              "  <thead>\n",
              "    <tr style=\"text-align: right;\">\n",
              "      <th></th>\n",
              "      <th>movieId</th>\n",
              "      <th>title</th>\n",
              "      <th>genres</th>\n",
              "      <th>userId</th>\n",
              "      <th>rating</th>\n",
              "      <th>timestamp</th>\n",
              "    </tr>\n",
              "  </thead>\n",
              "  <tbody>\n",
              "    <tr>\n",
              "      <th>0</th>\n",
              "      <td>1</td>\n",
              "      <td>Toy Story (1995)</td>\n",
              "      <td>Adventure|Animation|Children|Comedy|Fantasy</td>\n",
              "      <td>3.0</td>\n",
              "      <td>4.0</td>\n",
              "      <td>1999-12-11 13:36:47</td>\n",
              "    </tr>\n",
              "    <tr>\n",
              "      <th>1</th>\n",
              "      <td>1</td>\n",
              "      <td>Toy Story (1995)</td>\n",
              "      <td>Adventure|Animation|Children|Comedy|Fantasy</td>\n",
              "      <td>6.0</td>\n",
              "      <td>5.0</td>\n",
              "      <td>1997-03-13 17:50:52</td>\n",
              "    </tr>\n",
              "    <tr>\n",
              "      <th>2</th>\n",
              "      <td>1</td>\n",
              "      <td>Toy Story (1995)</td>\n",
              "      <td>Adventure|Animation|Children|Comedy|Fantasy</td>\n",
              "      <td>8.0</td>\n",
              "      <td>4.0</td>\n",
              "      <td>1996-06-05 13:37:51</td>\n",
              "    </tr>\n",
              "    <tr>\n",
              "      <th>3</th>\n",
              "      <td>1</td>\n",
              "      <td>Toy Story (1995)</td>\n",
              "      <td>Adventure|Animation|Children|Comedy|Fantasy</td>\n",
              "      <td>10.0</td>\n",
              "      <td>4.0</td>\n",
              "      <td>1999-11-25 02:44:47</td>\n",
              "    </tr>\n",
              "    <tr>\n",
              "      <th>4</th>\n",
              "      <td>1</td>\n",
              "      <td>Toy Story (1995)</td>\n",
              "      <td>Adventure|Animation|Children|Comedy|Fantasy</td>\n",
              "      <td>11.0</td>\n",
              "      <td>4.5</td>\n",
              "      <td>2009-01-02 01:13:41</td>\n",
              "    </tr>\n",
              "    <tr>\n",
              "      <th>5</th>\n",
              "      <td>1</td>\n",
              "      <td>Toy Story (1995)</td>\n",
              "      <td>Adventure|Animation|Children|Comedy|Fantasy</td>\n",
              "      <td>12.0</td>\n",
              "      <td>4.0</td>\n",
              "      <td>1997-03-22 20:48:38</td>\n",
              "    </tr>\n",
              "    <tr>\n",
              "      <th>6</th>\n",
              "      <td>1</td>\n",
              "      <td>Toy Story (1995)</td>\n",
              "      <td>Adventure|Animation|Children|Comedy|Fantasy</td>\n",
              "      <td>13.0</td>\n",
              "      <td>4.0</td>\n",
              "      <td>1996-11-27 08:21:31</td>\n",
              "    </tr>\n",
              "    <tr>\n",
              "      <th>7</th>\n",
              "      <td>1</td>\n",
              "      <td>Toy Story (1995)</td>\n",
              "      <td>Adventure|Animation|Children|Comedy|Fantasy</td>\n",
              "      <td>14.0</td>\n",
              "      <td>4.5</td>\n",
              "      <td>2008-10-29 20:13:59</td>\n",
              "    </tr>\n",
              "    <tr>\n",
              "      <th>8</th>\n",
              "      <td>1</td>\n",
              "      <td>Toy Story (1995)</td>\n",
              "      <td>Adventure|Animation|Children|Comedy|Fantasy</td>\n",
              "      <td>16.0</td>\n",
              "      <td>3.0</td>\n",
              "      <td>2001-05-27 13:22:52</td>\n",
              "    </tr>\n",
              "    <tr>\n",
              "      <th>9</th>\n",
              "      <td>1</td>\n",
              "      <td>Toy Story (1995)</td>\n",
              "      <td>Adventure|Animation|Children|Comedy|Fantasy</td>\n",
              "      <td>19.0</td>\n",
              "      <td>5.0</td>\n",
              "      <td>1997-02-05 21:03:48</td>\n",
              "    </tr>\n",
              "  </tbody>\n",
              "</table>\n",
              "</div>\n",
              "    <div class=\"colab-df-buttons\">\n",
              "\n",
              "  <div class=\"colab-df-container\">\n",
              "    <button class=\"colab-df-convert\" onclick=\"convertToInteractive('df-0e80bb73-1682-47d2-accb-7631cd8987e4')\"\n",
              "            title=\"Convert this dataframe to an interactive table.\"\n",
              "            style=\"display:none;\">\n",
              "\n",
              "  <svg xmlns=\"http://www.w3.org/2000/svg\" height=\"24px\" viewBox=\"0 -960 960 960\">\n",
              "    <path d=\"M120-120v-720h720v720H120Zm60-500h600v-160H180v160Zm220 220h160v-160H400v160Zm0 220h160v-160H400v160ZM180-400h160v-160H180v160Zm440 0h160v-160H620v160ZM180-180h160v-160H180v160Zm440 0h160v-160H620v160Z\"/>\n",
              "  </svg>\n",
              "    </button>\n",
              "\n",
              "  <style>\n",
              "    .colab-df-container {\n",
              "      display:flex;\n",
              "      gap: 12px;\n",
              "    }\n",
              "\n",
              "    .colab-df-convert {\n",
              "      background-color: #E8F0FE;\n",
              "      border: none;\n",
              "      border-radius: 50%;\n",
              "      cursor: pointer;\n",
              "      display: none;\n",
              "      fill: #1967D2;\n",
              "      height: 32px;\n",
              "      padding: 0 0 0 0;\n",
              "      width: 32px;\n",
              "    }\n",
              "\n",
              "    .colab-df-convert:hover {\n",
              "      background-color: #E2EBFA;\n",
              "      box-shadow: 0px 1px 2px rgba(60, 64, 67, 0.3), 0px 1px 3px 1px rgba(60, 64, 67, 0.15);\n",
              "      fill: #174EA6;\n",
              "    }\n",
              "\n",
              "    .colab-df-buttons div {\n",
              "      margin-bottom: 4px;\n",
              "    }\n",
              "\n",
              "    [theme=dark] .colab-df-convert {\n",
              "      background-color: #3B4455;\n",
              "      fill: #D2E3FC;\n",
              "    }\n",
              "\n",
              "    [theme=dark] .colab-df-convert:hover {\n",
              "      background-color: #434B5C;\n",
              "      box-shadow: 0px 1px 3px 1px rgba(0, 0, 0, 0.15);\n",
              "      filter: drop-shadow(0px 1px 2px rgba(0, 0, 0, 0.3));\n",
              "      fill: #FFFFFF;\n",
              "    }\n",
              "  </style>\n",
              "\n",
              "    <script>\n",
              "      const buttonEl =\n",
              "        document.querySelector('#df-0e80bb73-1682-47d2-accb-7631cd8987e4 button.colab-df-convert');\n",
              "      buttonEl.style.display =\n",
              "        google.colab.kernel.accessAllowed ? 'block' : 'none';\n",
              "\n",
              "      async function convertToInteractive(key) {\n",
              "        const element = document.querySelector('#df-0e80bb73-1682-47d2-accb-7631cd8987e4');\n",
              "        const dataTable =\n",
              "          await google.colab.kernel.invokeFunction('convertToInteractive',\n",
              "                                                    [key], {});\n",
              "        if (!dataTable) return;\n",
              "\n",
              "        const docLinkHtml = 'Like what you see? Visit the ' +\n",
              "          '<a target=\"_blank\" href=https://colab.research.google.com/notebooks/data_table.ipynb>data table notebook</a>'\n",
              "          + ' to learn more about interactive tables.';\n",
              "        element.innerHTML = '';\n",
              "        dataTable['output_type'] = 'display_data';\n",
              "        await google.colab.output.renderOutput(dataTable, element);\n",
              "        const docLink = document.createElement('div');\n",
              "        docLink.innerHTML = docLinkHtml;\n",
              "        element.appendChild(docLink);\n",
              "      }\n",
              "    </script>\n",
              "  </div>\n",
              "\n",
              "\n",
              "<div id=\"df-ee5266e9-977f-4751-851b-3a9d3be106a1\">\n",
              "  <button class=\"colab-df-quickchart\" onclick=\"quickchart('df-ee5266e9-977f-4751-851b-3a9d3be106a1')\"\n",
              "            title=\"Suggest charts\"\n",
              "            style=\"display:none;\">\n",
              "\n",
              "<svg xmlns=\"http://www.w3.org/2000/svg\" height=\"24px\"viewBox=\"0 0 24 24\"\n",
              "     width=\"24px\">\n",
              "    <g>\n",
              "        <path d=\"M19 3H5c-1.1 0-2 .9-2 2v14c0 1.1.9 2 2 2h14c1.1 0 2-.9 2-2V5c0-1.1-.9-2-2-2zM9 17H7v-7h2v7zm4 0h-2V7h2v10zm4 0h-2v-4h2v4z\"/>\n",
              "    </g>\n",
              "</svg>\n",
              "  </button>\n",
              "\n",
              "<style>\n",
              "  .colab-df-quickchart {\n",
              "      --bg-color: #E8F0FE;\n",
              "      --fill-color: #1967D2;\n",
              "      --hover-bg-color: #E2EBFA;\n",
              "      --hover-fill-color: #174EA6;\n",
              "      --disabled-fill-color: #AAA;\n",
              "      --disabled-bg-color: #DDD;\n",
              "  }\n",
              "\n",
              "  [theme=dark] .colab-df-quickchart {\n",
              "      --bg-color: #3B4455;\n",
              "      --fill-color: #D2E3FC;\n",
              "      --hover-bg-color: #434B5C;\n",
              "      --hover-fill-color: #FFFFFF;\n",
              "      --disabled-bg-color: #3B4455;\n",
              "      --disabled-fill-color: #666;\n",
              "  }\n",
              "\n",
              "  .colab-df-quickchart {\n",
              "    background-color: var(--bg-color);\n",
              "    border: none;\n",
              "    border-radius: 50%;\n",
              "    cursor: pointer;\n",
              "    display: none;\n",
              "    fill: var(--fill-color);\n",
              "    height: 32px;\n",
              "    padding: 0;\n",
              "    width: 32px;\n",
              "  }\n",
              "\n",
              "  .colab-df-quickchart:hover {\n",
              "    background-color: var(--hover-bg-color);\n",
              "    box-shadow: 0 1px 2px rgba(60, 64, 67, 0.3), 0 1px 3px 1px rgba(60, 64, 67, 0.15);\n",
              "    fill: var(--button-hover-fill-color);\n",
              "  }\n",
              "\n",
              "  .colab-df-quickchart-complete:disabled,\n",
              "  .colab-df-quickchart-complete:disabled:hover {\n",
              "    background-color: var(--disabled-bg-color);\n",
              "    fill: var(--disabled-fill-color);\n",
              "    box-shadow: none;\n",
              "  }\n",
              "\n",
              "  .colab-df-spinner {\n",
              "    border: 2px solid var(--fill-color);\n",
              "    border-color: transparent;\n",
              "    border-bottom-color: var(--fill-color);\n",
              "    animation:\n",
              "      spin 1s steps(1) infinite;\n",
              "  }\n",
              "\n",
              "  @keyframes spin {\n",
              "    0% {\n",
              "      border-color: transparent;\n",
              "      border-bottom-color: var(--fill-color);\n",
              "      border-left-color: var(--fill-color);\n",
              "    }\n",
              "    20% {\n",
              "      border-color: transparent;\n",
              "      border-left-color: var(--fill-color);\n",
              "      border-top-color: var(--fill-color);\n",
              "    }\n",
              "    30% {\n",
              "      border-color: transparent;\n",
              "      border-left-color: var(--fill-color);\n",
              "      border-top-color: var(--fill-color);\n",
              "      border-right-color: var(--fill-color);\n",
              "    }\n",
              "    40% {\n",
              "      border-color: transparent;\n",
              "      border-right-color: var(--fill-color);\n",
              "      border-top-color: var(--fill-color);\n",
              "    }\n",
              "    60% {\n",
              "      border-color: transparent;\n",
              "      border-right-color: var(--fill-color);\n",
              "    }\n",
              "    80% {\n",
              "      border-color: transparent;\n",
              "      border-right-color: var(--fill-color);\n",
              "      border-bottom-color: var(--fill-color);\n",
              "    }\n",
              "    90% {\n",
              "      border-color: transparent;\n",
              "      border-bottom-color: var(--fill-color);\n",
              "    }\n",
              "  }\n",
              "</style>\n",
              "\n",
              "  <script>\n",
              "    async function quickchart(key) {\n",
              "      const quickchartButtonEl =\n",
              "        document.querySelector('#' + key + ' button');\n",
              "      quickchartButtonEl.disabled = true;  // To prevent multiple clicks.\n",
              "      quickchartButtonEl.classList.add('colab-df-spinner');\n",
              "      try {\n",
              "        const charts = await google.colab.kernel.invokeFunction(\n",
              "            'suggestCharts', [key], {});\n",
              "      } catch (error) {\n",
              "        console.error('Error during call to suggestCharts:', error);\n",
              "      }\n",
              "      quickchartButtonEl.classList.remove('colab-df-spinner');\n",
              "      quickchartButtonEl.classList.add('colab-df-quickchart-complete');\n",
              "    }\n",
              "    (() => {\n",
              "      let quickchartButtonEl =\n",
              "        document.querySelector('#df-ee5266e9-977f-4751-851b-3a9d3be106a1 button');\n",
              "      quickchartButtonEl.style.display =\n",
              "        google.colab.kernel.accessAllowed ? 'block' : 'none';\n",
              "    })();\n",
              "  </script>\n",
              "</div>\n",
              "\n",
              "    </div>\n",
              "  </div>\n"
            ],
            "application/vnd.google.colaboratory.intrinsic+json": {
              "type": "dataframe",
              "variable_name": "df"
            }
          },
          "metadata": {},
          "execution_count": 6
        }
      ]
    },
    {
      "cell_type": "code",
      "source": [
        "## User Movie Df Oluşturulması\n",
        "## önem taşımayan az sayıda yorum alan filmler çıkartılarak analiz gerçekleştirilmelidir.\n",
        "\n",
        "df.shape\n",
        "df[\"title\"].nunique()\n",
        "df[\"title\"].value_counts().head()\n"
      ],
      "metadata": {
        "colab": {
          "base_uri": "https://localhost:8080/"
        },
        "id": "RU7dfbj7uMYC",
        "outputId": "76c3abd7-93c1-4b56-ec11-897e0daa335f"
      },
      "execution_count": 11,
      "outputs": [
        {
          "output_type": "execute_result",
          "data": {
            "text/plain": [
              "title\n",
              "Pulp Fiction (1994)                 5312\n",
              "Forrest Gump (1994)                 5297\n",
              "Silence of the Lambs, The (1991)    4956\n",
              "Shawshank Redemption, The (1994)    4913\n",
              "Jurassic Park (1993)                4748\n",
              "Name: count, dtype: int64"
            ]
          },
          "metadata": {},
          "execution_count": 11
        }
      ]
    },
    {
      "cell_type": "code",
      "source": [
        "## analiz açısından 1000'den az yorum alan filmler çıkartılacaktır\n",
        "comments_count = pd.DataFrame(df[\"title\"].value_counts())\n",
        "print(comments_count)\n"
      ],
      "metadata": {
        "colab": {
          "base_uri": "https://localhost:8080/"
        },
        "id": "azi2F4RFv4ls",
        "outputId": "af960dee-2d7e-458d-9c2d-4e9b445802fc"
      },
      "execution_count": 13,
      "outputs": [
        {
          "output_type": "stream",
          "name": "stdout",
          "text": [
            "                                                    count\n",
            "title                                                    \n",
            "Pulp Fiction (1994)                                  5312\n",
            "Forrest Gump (1994)                                  5297\n",
            "Silence of the Lambs, The (1991)                     4956\n",
            "Shawshank Redemption, The (1994)                     4913\n",
            "Jurassic Park (1993)                                 4748\n",
            "...                                                   ...\n",
            "Stewart Lee: If You Prefer a Milder Comedian, P...      1\n",
            "Look What's Happened to Rosemary's Baby (a.k.a....      1\n",
            "Great Stone Face, The (1968)                            1\n",
            "Speed & Angels (2008)                                   1\n",
            "Innocence (2014)                                        1\n",
            "\n",
            "[27262 rows x 1 columns]\n"
          ]
        }
      ]
    },
    {
      "cell_type": "code",
      "source": [
        "## 1000 den az yorum alanlar:\n",
        "rare_movie = comments_count[comments_count[\"count\"] <= 1000].index\n",
        "print(rare_movie)"
      ],
      "metadata": {
        "colab": {
          "base_uri": "https://localhost:8080/"
        },
        "id": "gnanhFqOwHGc",
        "outputId": "92a50d02-bd66-49c7-fd35-1acb95baae07"
      },
      "execution_count": 16,
      "outputs": [
        {
          "output_type": "stream",
          "name": "stdout",
          "text": [
            "Index(['City Slickers II: The Legend of Curly's Gold (1994)',\n",
            "       'Notting Hill (1999)', 'Johnny Mnemonic (1995)', 'Casino Royale (2006)',\n",
            "       'Father of the Bride Part II (1995)', 'Disclosure (1994)',\n",
            "       'Thelma & Louise (1991)', 'Three Musketeers, The (1993)',\n",
            "       'Fantasia (1940)', 'Bowling for Columbine (2002)',\n",
            "       ...\n",
            "       'Christmas Holiday (1944)', 'Back Street (1961)', 'Up in Arms (1944)',\n",
            "       'Traveler, The (2010)', 'Chain Letter (2009)',\n",
            "       'Stewart Lee: If You Prefer a Milder Comedian, Please Ask for One (2010)',\n",
            "       'Look What's Happened to Rosemary's Baby (a.k.a. Rosemary's Baby II) (1976)',\n",
            "       'Great Stone Face, The (1968)', 'Speed & Angels (2008)',\n",
            "       'Innocence (2014)'],\n",
            "      dtype='object', name='title', length=26923)\n"
          ]
        }
      ]
    },
    {
      "cell_type": "code",
      "source": [
        "## df içerisinden 1000 den az yorum olmayanların oluşturulması\n",
        "common_movies = df[~df[\"title\"].isin(rare_movie)]\n",
        "print(common_movies)"
      ],
      "metadata": {
        "colab": {
          "base_uri": "https://localhost:8080/"
        },
        "id": "9zAIbdHgwsMC",
        "outputId": "009c3f2d-954e-4985-cb80-6351555f1103"
      },
      "execution_count": 17,
      "outputs": [
        {
          "output_type": "stream",
          "name": "stdout",
          "text": [
            "         movieId             title  \\\n",
            "0              1  Toy Story (1995)   \n",
            "1              1  Toy Story (1995)   \n",
            "2              1  Toy Story (1995)   \n",
            "3              1  Toy Story (1995)   \n",
            "4              1  Toy Story (1995)   \n",
            "...          ...               ...   \n",
            "1576574    79132  Inception (2010)   \n",
            "1576575    79132  Inception (2010)   \n",
            "1576576    79132  Inception (2010)   \n",
            "1576577    79132  Inception (2010)   \n",
            "1614198   114240    Aladdin (1992)   \n",
            "\n",
            "                                                  genres   userId  rating  \\\n",
            "0            Adventure|Animation|Children|Comedy|Fantasy      3.0     4.0   \n",
            "1            Adventure|Animation|Children|Comedy|Fantasy      6.0     5.0   \n",
            "2            Adventure|Animation|Children|Comedy|Fantasy      8.0     4.0   \n",
            "3            Adventure|Animation|Children|Comedy|Fantasy     10.0     4.0   \n",
            "4            Adventure|Animation|Children|Comedy|Fantasy     11.0     4.5   \n",
            "...                                                  ...      ...     ...   \n",
            "1576574  Action|Crime|Drama|Mystery|Sci-Fi|Thriller|IMAX  10807.0     5.0   \n",
            "1576575  Action|Crime|Drama|Mystery|Sci-Fi|Thriller|IMAX  10809.0     4.5   \n",
            "1576576  Action|Crime|Drama|Mystery|Sci-Fi|Thriller|IMAX  10815.0     5.0   \n",
            "1576577  Action|Crime|Drama|Mystery|Sci-Fi|Thriller|IMAX  10822.0     4.0   \n",
            "1614198      Adventure|Animation|Children|Comedy|Fantasy      NaN     NaN   \n",
            "\n",
            "                   timestamp  \n",
            "0        1999-12-11 13:36:47  \n",
            "1        1997-03-13 17:50:52  \n",
            "2        1996-06-05 13:37:51  \n",
            "3        1999-11-25 02:44:47  \n",
            "4        2009-01-02 01:13:41  \n",
            "...                      ...  \n",
            "1576574  2011-04-19 13:50:54  \n",
            "1576575  2010-08-18 02:18:49  \n",
            "1576576  2014-08-01 22:24:39  \n",
            "1576577  2013-04-21 09:48:12  \n",
            "1614198                  NaN  \n",
            "\n",
            "[612960 rows x 6 columns]\n"
          ]
        }
      ]
    },
    {
      "cell_type": "code",
      "source": [
        "## Yüksek puanlı eşsiz film sayısı\n",
        "common_movies[\"title\"].nunique()"
      ],
      "metadata": {
        "colab": {
          "base_uri": "https://localhost:8080/"
        },
        "id": "S3-D79EmxN-q",
        "outputId": "2713f349-3dad-4a0a-c038-d117a9bf68ca"
      },
      "execution_count": 21,
      "outputs": [
        {
          "output_type": "execute_result",
          "data": {
            "text/plain": [
              "339"
            ]
          },
          "metadata": {},
          "execution_count": 21
        }
      ]
    },
    {
      "cell_type": "code",
      "source": [
        "## user df creating\n",
        "user_movie_df = common_movies.pivot_table(index=[\"userId\"], columns=[\"title\"], values=\"rating\")\n",
        "print(user_movie_df)"
      ],
      "metadata": {
        "colab": {
          "base_uri": "https://localhost:8080/"
        },
        "id": "DsXweKjJx2rq",
        "outputId": "6798815d-1fca-4141-b6d5-e666748dd415"
      },
      "execution_count": 23,
      "outputs": [
        {
          "output_type": "stream",
          "name": "stdout",
          "text": [
            "title    12 Angry Men (1957)  2001: A Space Odyssey (1968)  Abyss, The (1989)  \\\n",
            "userId                                                                          \n",
            "1.0                      NaN                           3.5                NaN   \n",
            "2.0                      NaN                           5.0                NaN   \n",
            "3.0                      NaN                           5.0                3.0   \n",
            "4.0                      NaN                           NaN                NaN   \n",
            "5.0                      NaN                           NaN                NaN   \n",
            "...                      ...                           ...                ...   \n",
            "10825.0                  NaN                           NaN                NaN   \n",
            "10826.0                  NaN                           5.0                4.0   \n",
            "10827.0                  NaN                           NaN                NaN   \n",
            "10828.0                  NaN                           NaN                NaN   \n",
            "10829.0                  NaN                           4.0                4.5   \n",
            "\n",
            "title    Ace Ventura: Pet Detective (1994)  \\\n",
            "userId                                       \n",
            "1.0                                    NaN   \n",
            "2.0                                    NaN   \n",
            "3.0                                    NaN   \n",
            "4.0                                    NaN   \n",
            "5.0                                    NaN   \n",
            "...                                    ...   \n",
            "10825.0                                1.0   \n",
            "10826.0                                NaN   \n",
            "10827.0                                4.0   \n",
            "10828.0                                NaN   \n",
            "10829.0                                4.0   \n",
            "\n",
            "title    Ace Ventura: When Nature Calls (1995)  Addams Family Values (1993)  \\\n",
            "userId                                                                        \n",
            "1.0                                        NaN                          NaN   \n",
            "2.0                                        NaN                          NaN   \n",
            "3.0                                        NaN                          NaN   \n",
            "4.0                                        3.0                          NaN   \n",
            "5.0                                        NaN                          NaN   \n",
            "...                                        ...                          ...   \n",
            "10825.0                                    NaN                          2.0   \n",
            "10826.0                                    NaN                          NaN   \n",
            "10827.0                                    4.0                          NaN   \n",
            "10828.0                                    NaN                          NaN   \n",
            "10829.0                                    4.5                          4.5   \n",
            "\n",
            "title    Air Force One (1997)  Airplane! (1980)  Aladdin (1992)  Alien (1979)  \\\n",
            "userId                                                                          \n",
            "1.0                       NaN               NaN             NaN           4.0   \n",
            "2.0                       NaN               2.0             NaN           5.0   \n",
            "3.0                       NaN               5.0             NaN           5.0   \n",
            "4.0                       NaN               NaN             NaN           NaN   \n",
            "5.0                       NaN               NaN             5.0           NaN   \n",
            "...                       ...               ...             ...           ...   \n",
            "10825.0                   NaN               NaN             4.0           NaN   \n",
            "10826.0                   NaN               NaN             NaN           4.0   \n",
            "10827.0                   NaN               NaN             5.0           3.5   \n",
            "10828.0                   NaN               NaN             NaN           NaN   \n",
            "10829.0                   NaN               NaN             4.0           4.0   \n",
            "\n",
            "title    ...  Wedding Singer, The (1998)  What's Eating Gilbert Grape (1993)  \\\n",
            "userId   ...                                                                   \n",
            "1.0      ...                         NaN                                 3.5   \n",
            "2.0      ...                         NaN                                 NaN   \n",
            "3.0      ...                         NaN                                 3.0   \n",
            "4.0      ...                         NaN                                 NaN   \n",
            "5.0      ...                         NaN                                 NaN   \n",
            "...      ...                         ...                                 ...   \n",
            "10825.0  ...                         NaN                                 NaN   \n",
            "10826.0  ...                         NaN                                 NaN   \n",
            "10827.0  ...                         NaN                                 NaN   \n",
            "10828.0  ...                         NaN                                 NaN   \n",
            "10829.0  ...                         3.5                                 4.5   \n",
            "\n",
            "title    When Harry Met Sally... (1989)  While You Were Sleeping (1995)  \\\n",
            "userId                                                                    \n",
            "1.0                                 NaN                             NaN   \n",
            "2.0                                 NaN                             NaN   \n",
            "3.0                                 4.0                             NaN   \n",
            "4.0                                 NaN                             NaN   \n",
            "5.0                                 NaN                             NaN   \n",
            "...                                 ...                             ...   \n",
            "10825.0                             NaN                             3.0   \n",
            "10826.0                             NaN                             NaN   \n",
            "10827.0                             NaN                             NaN   \n",
            "10828.0                             NaN                             NaN   \n",
            "10829.0                             0.5                             NaN   \n",
            "\n",
            "title    Who Framed Roger Rabbit? (1988)  \\\n",
            "userId                                     \n",
            "1.0                                  NaN   \n",
            "2.0                                  NaN   \n",
            "3.0                                  NaN   \n",
            "4.0                                  NaN   \n",
            "5.0                                  NaN   \n",
            "...                                  ...   \n",
            "10825.0                              NaN   \n",
            "10826.0                              NaN   \n",
            "10827.0                              NaN   \n",
            "10828.0                              NaN   \n",
            "10829.0                              NaN   \n",
            "\n",
            "title    Willy Wonka & the Chocolate Factory (1971)  Wizard of Oz, The (1939)  \\\n",
            "userId                                                                          \n",
            "1.0                                             NaN                       3.5   \n",
            "2.0                                             NaN                       NaN   \n",
            "3.0                                             5.0                       4.0   \n",
            "4.0                                             NaN                       NaN   \n",
            "5.0                                             2.0                       NaN   \n",
            "...                                             ...                       ...   \n",
            "10825.0                                         NaN                       NaN   \n",
            "10826.0                                         NaN                       NaN   \n",
            "10827.0                                         NaN                       NaN   \n",
            "10828.0                                         NaN                       NaN   \n",
            "10829.0                                         5.0                       5.0   \n",
            "\n",
            "title    X-Men (2000)  X2: X-Men United (2003)  Young Frankenstein (1974)  \n",
            "userId                                                                     \n",
            "1.0               NaN                      4.0                        4.0  \n",
            "2.0               NaN                      NaN                        NaN  \n",
            "3.0               NaN                      NaN                        5.0  \n",
            "4.0               NaN                      NaN                        NaN  \n",
            "5.0               NaN                      NaN                        NaN  \n",
            "...               ...                      ...                        ...  \n",
            "10825.0           NaN                      NaN                        NaN  \n",
            "10826.0           NaN                      NaN                        NaN  \n",
            "10827.0           3.5                      NaN                        4.5  \n",
            "10828.0           NaN                      NaN                        NaN  \n",
            "10829.0           NaN                      NaN                        5.0  \n",
            "\n",
            "[10721 rows x 339 columns]\n"
          ]
        }
      ]
    },
    {
      "cell_type": "code",
      "source": [
        "user_movie_df.shape"
      ],
      "metadata": {
        "colab": {
          "base_uri": "https://localhost:8080/"
        },
        "id": "Li-Y17bJywBC",
        "outputId": "882fdd98-aa68-4fe9-e319-953c6f01ccb0"
      },
      "execution_count": 24,
      "outputs": [
        {
          "output_type": "execute_result",
          "data": {
            "text/plain": [
              "(10721, 339)"
            ]
          },
          "metadata": {},
          "execution_count": 24
        }
      ]
    },
    {
      "cell_type": "code",
      "source": [
        "## Item Based Film Önerisi Oluşturma\n",
        "\n",
        "pd.set_option(\"display.max_columns\",500)\n",
        "movie_name = \"Matrix, The (1999)\"\n",
        "movie_name = user_movie_df[movie_name]\n",
        "# print(movie_name)\n",
        "user_movie_df.corrwith(movie_name).sort_values(ascending=False).head(10)\n"
      ],
      "metadata": {
        "colab": {
          "base_uri": "https://localhost:8080/"
        },
        "id": "u7HhunAzy8O4",
        "outputId": "dcdb0117-1f58-475b-a93c-34acb71eb75a"
      },
      "execution_count": 31,
      "outputs": [
        {
          "output_type": "execute_result",
          "data": {
            "text/plain": [
              "title\n",
              "Matrix, The (1999)                                   1.000000\n",
              "Matrix Reloaded, The (2003)                          0.501695\n",
              "Terminator 2: Judgment Day (1991)                    0.340030\n",
              "Inception (2010)                                     0.321155\n",
              "Men in Black (a.k.a. MIB) (1997)                     0.320808\n",
              "Lord of the Rings: The Two Towers, The (2002)        0.320497\n",
              "Terminator, The (1984)                               0.319067\n",
              "Top Gun (1986)                                       0.317431\n",
              "Batman Begins (2005)                                 0.316988\n",
              "Star Wars: Episode VI - Return of the Jedi (1983)    0.309763\n",
              "dtype: float64"
            ]
          },
          "metadata": {},
          "execution_count": 31
        }
      ]
    },
    {
      "cell_type": "code",
      "source": [
        "movie_name = \"Terminator, The (1984)\"\n",
        "movie_name = user_movie_df[movie_name]\n",
        "# print(movie_name)\n",
        "user_movie_df.corrwith(movie_name).sort_values(ascending=False).head(10)\n"
      ],
      "metadata": {
        "colab": {
          "base_uri": "https://localhost:8080/"
        },
        "id": "qUG84IOq0JTP",
        "outputId": "840f9d4e-3948-46de-9d99-cb775d9fa7e8"
      },
      "execution_count": 32,
      "outputs": [
        {
          "output_type": "execute_result",
          "data": {
            "text/plain": [
              "title\n",
              "Terminator, The (1984)                                                            1.000000\n",
              "Terminator 2: Judgment Day (1991)                                                 0.609855\n",
              "Aliens (1986)                                                                     0.485436\n",
              "RoboCop (1987)                                                                    0.463676\n",
              "Die Hard (1988)                                                                   0.458359\n",
              "Total Recall (1990)                                                               0.457005\n",
              "Alien (1979)                                                                      0.441642\n",
              "Predator (1987)                                                                   0.429403\n",
              "Raiders of the Lost Ark (Indiana Jones and the Raiders of the Lost Ark) (1981)    0.426091\n",
              "Lethal Weapon (1987)                                                              0.406933\n",
              "dtype: float64"
            ]
          },
          "metadata": {},
          "execution_count": 32
        }
      ]
    },
    {
      "cell_type": "code",
      "source": [
        "def check_film(keyboard, user_movie_df):\n",
        "  return [col for col in user_movie_df.columns if keyboard in col]\n",
        "\n",
        "check_film(\"Matrix\", user_movie_df)"
      ],
      "metadata": {
        "colab": {
          "base_uri": "https://localhost:8080/"
        },
        "id": "ty2UXkp51WDK",
        "outputId": "17dea68a-50ff-4dbe-d282-6237673f6966"
      },
      "execution_count": 34,
      "outputs": [
        {
          "output_type": "execute_result",
          "data": {
            "text/plain": [
              "['Matrix Reloaded, The (2003)', 'Matrix, The (1999)']"
            ]
          },
          "metadata": {},
          "execution_count": 34
        }
      ]
    },
    {
      "cell_type": "code",
      "source": [
        "def item_based_recommender(movie_name, user_movie_df):\n",
        "  movie_name = user_movie_df[movie_name]\n",
        "  return user_movie_df.corrwith(movie_name).sort_values(ascending=False).head(10)"
      ],
      "metadata": {
        "id": "96AUCtB79E5Q"
      },
      "execution_count": 35,
      "outputs": []
    },
    {
      "cell_type": "code",
      "source": [
        "item_based_recommender(\"Terminator, The (1984)\", user_movie_df)"
      ],
      "metadata": {
        "colab": {
          "base_uri": "https://localhost:8080/"
        },
        "id": "SE0gyJ-Q9Qso",
        "outputId": "c4e6a37d-608f-4dcc-8fe4-6c8c97c45054"
      },
      "execution_count": 36,
      "outputs": [
        {
          "output_type": "execute_result",
          "data": {
            "text/plain": [
              "title\n",
              "Terminator, The (1984)                                                            1.000000\n",
              "Terminator 2: Judgment Day (1991)                                                 0.609855\n",
              "Aliens (1986)                                                                     0.485436\n",
              "RoboCop (1987)                                                                    0.463676\n",
              "Die Hard (1988)                                                                   0.458359\n",
              "Total Recall (1990)                                                               0.457005\n",
              "Alien (1979)                                                                      0.441642\n",
              "Predator (1987)                                                                   0.429403\n",
              "Raiders of the Lost Ark (Indiana Jones and the Raiders of the Lost Ark) (1981)    0.426091\n",
              "Lethal Weapon (1987)                                                              0.406933\n",
              "dtype: float64"
            ]
          },
          "metadata": {},
          "execution_count": 36
        }
      ]
    },
    {
      "cell_type": "code",
      "source": [
        "movie_name = pd.Series(user_movie_df.columns).sample(1).values[0]\n",
        "print(movie_name)"
      ],
      "metadata": {
        "colab": {
          "base_uri": "https://localhost:8080/"
        },
        "id": "D8nZrbqv9z8Z",
        "outputId": "12e332f0-c007-4d08-ab70-f8c7eaad96f6"
      },
      "execution_count": 38,
      "outputs": [
        {
          "output_type": "stream",
          "name": "stdout",
          "text": [
            "Babe (1995)\n"
          ]
        }
      ]
    },
    {
      "cell_type": "code",
      "source": [
        "item_based_recommender(movie_name, user_movie_df)"
      ],
      "metadata": {
        "colab": {
          "base_uri": "https://localhost:8080/"
        },
        "id": "ANpDB5B7-AaJ",
        "outputId": "776d26ab-8193-451d-efe8-544ae8fb5834"
      },
      "execution_count": 39,
      "outputs": [
        {
          "output_type": "execute_result",
          "data": {
            "text/plain": [
              "title\n",
              "Babe (1995)                                       1.000000\n",
              "Toy Story 2 (1999)                                0.470459\n",
              "Toy Story (1995)                                  0.441664\n",
              "Bug's Life, A (1998)                              0.439738\n",
              "Finding Nemo (2003)                               0.400345\n",
              "Wizard of Oz, The (1939)                          0.389284\n",
              "Snow White and the Seven Dwarfs (1937)            0.387747\n",
              "Wallace & Gromit: The Wrong Trousers (1993)       0.382463\n",
              "Harry Potter and the Chamber of Secrets (2002)    0.379881\n",
              "Monsters, Inc. (2001)                             0.373221\n",
              "dtype: float64"
            ]
          },
          "metadata": {},
          "execution_count": 39
        }
      ]
    }
  ]
}